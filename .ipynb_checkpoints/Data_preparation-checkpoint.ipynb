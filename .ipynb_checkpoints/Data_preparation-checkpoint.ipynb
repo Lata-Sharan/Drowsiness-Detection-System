{
 "cells": [
  {
   "cell_type": "markdown",
   "id": "0c93442e",
   "metadata": {},
   "source": [
    "## Importing Libraries"
   ]
  },
  {
   "cell_type": "code",
   "execution_count": 7,
   "id": "1a978970",
   "metadata": {},
   "outputs": [],
   "source": [
    "import os\n",
    "import shutil\n",
    "import glob\n",
    "import random\n",
    "from tqdm import tqdm"
   ]
  },
  {
   "cell_type": "markdown",
   "id": "1ab60a32",
   "metadata": {},
   "source": [
    "## Subject ID: xxx\n",
    "\n",
    "**image number: xxx**\n",
    "\n",
    "* _Gender_: Male=0 ; Female=1\n",
    "\n",
    "* _Glasses_:No=0  ; Yes=1\n",
    "\n",
    "* _Eye state_:Close=0  ; open=1\n",
    "\n",
    "* _Reflections_:None=0  ; Low=1  ; High=2\n",
    "\n",
    "* _Lighting conditions/image quality_:Bad=0  ; Good=1\n",
    "\n",
    "* _Sensor type_: 01 - RealSense SR300 640x480 02 - IDS Imaging, 1280x1024 03 - Aptina Imagin 752x480\n",
    "\n",
    "**_Example_: s001_00123_0_0_0_0_0_01.png** "
   ]
  },
  {
   "cell_type": "markdown",
   "id": "c02ea068",
   "metadata": {},
   "source": [
    "## Separating Closed and opened eyes data"
   ]
  },
  {
   "cell_type": "code",
   "execution_count": 3,
   "id": "91cfc697",
   "metadata": {},
   "outputs": [
    {
     "name": "stderr",
     "output_type": "stream",
     "text": [
      "0it [00:00, ?it/s]\n",
      "0it [00:00, ?it/s]\n",
      "100%|██████████████████████████████████████████████████████████████████████████████| 3242/3242 [00:40<00:00, 80.53it/s]\n",
      "100%|██████████████████████████████████████████████████████████████████████████████| 1114/1114 [00:14<00:00, 79.09it/s]\n",
      "100%|████████████████████████████████████████████████████████████████████████████████| 679/679 [00:08<00:00, 80.93it/s]\n",
      "100%|██████████████████████████████████████████████████████████████████████████████| 1069/1069 [00:12<00:00, 85.39it/s]\n",
      "100%|████████████████████████████████████████████████████████████████████████████████| 736/736 [00:12<00:00, 57.58it/s]\n",
      "100%|██████████████████████████████████████████████████████████████████████████████| 1012/1012 [00:19<00:00, 53.14it/s]\n",
      "100%|████████████████████████████████████████████████████████████████████████████████| 624/624 [00:09<00:00, 67.57it/s]\n",
      "100%|████████████████████████████████████████████████████████████████████████████████| 832/832 [00:10<00:00, 81.76it/s]\n",
      "100%|████████████████████████████████████████████████████████████████████████████████| 387/387 [00:04<00:00, 78.32it/s]\n",
      "100%|████████████████████████████████████████████████████████████████████████████████| 399/399 [00:25<00:00, 15.62it/s]\n",
      "100%|██████████████████████████████████████████████████████████████████████████████| 1648/1648 [00:45<00:00, 36.35it/s]\n",
      "100%|██████████████████████████████████████████████████████████████████████████████| 8728/8728 [01:49<00:00, 79.47it/s]\n",
      "100%|██████████████████████████████████████████████████████████████████████████████| 3605/3605 [00:45<00:00, 79.52it/s]\n",
      "100%|██████████████████████████████████████████████████████████████████████████████| 8884/8884 [01:52<00:00, 78.89it/s]\n",
      "100%|██████████████████████████████████████████████████████████████████████████████| 1132/1132 [00:13<00:00, 85.62it/s]\n",
      "100%|██████████████████████████████████████████████████████████████████████████████| 1889/1889 [00:20<00:00, 90.30it/s]\n",
      "100%|██████████████████████████████████████████████████████████████████████████████| 1648/1648 [00:18<00:00, 91.40it/s]\n",
      "100%|██████████████████████████████████████████████████████████████████████████████| 4410/4410 [00:48<00:00, 90.94it/s]\n",
      "100%|██████████████████████████████████████████████████████████████████████████████| 6175/6175 [01:18<00:00, 78.40it/s]\n",
      "100%|████████████████████████████████████████████████████████████████████████████████| 704/704 [00:08<00:00, 83.13it/s]\n",
      "100%|████████████████████████████████████████████████████████████████████████████████| 987/987 [00:12<00:00, 81.17it/s]\n",
      "100%|████████████████████████████████████████████████████████████████████████████████| 382/382 [00:04<00:00, 79.69it/s]\n",
      "100%|████████████████████████████████████████████████████████████████████████████████| 522/522 [00:06<00:00, 75.97it/s]\n",
      "100%|████████████████████████████████████████████████████████████████████████████████| 752/752 [00:17<00:00, 42.04it/s]\n",
      "100%|██████████████████████████████████████████████████████████████████████████████| 1502/1502 [00:15<00:00, 96.90it/s]\n",
      "100%|██████████████████████████████████████████████████████████████████████████████| 1246/1246 [00:14<00:00, 86.39it/s]\n",
      "100%|████████████████████████████████████████████████████████████████████████████████| 665/665 [00:08<00:00, 79.83it/s]\n",
      "100%|████████████████████████████████████████████████████████████████████████████████| 736/736 [00:08<00:00, 89.28it/s]\n",
      "100%|██████████████████████████████████████████████████████████████████████████████| 1393/1393 [00:22<00:00, 62.31it/s]\n",
      "100%|█████████████████████████████████████████████████████████████████████████████| 1384/1384 [00:13<00:00, 104.90it/s]\n",
      "100%|██████████████████████████████████████████████████████████████████████████████| 1738/1738 [00:18<00:00, 94.90it/s]\n",
      "100%|██████████████████████████████████████████████████████████████████████████████| 6162/6162 [01:02<00:00, 98.69it/s]\n",
      "100%|███████████████████████████████████████████████████████████████████████████████| 681/681 [00:06<00:00, 112.17it/s]\n",
      "100%|███████████████████████████████████████████████████████████████████████████████| 739/739 [00:07<00:00, 104.56it/s]\n",
      "100%|████████████████████████████████████████████████████████████████████████████████| 642/642 [00:07<00:00, 89.22it/s]\n",
      "100%|██████████████████████████████████████████████████████████████████████████████| 6193/6193 [01:08<00:00, 90.15it/s]\n",
      "100%|████████████████████████████████████████████████████████████████████████████| 10257/10257 [01:45<00:00, 97.68it/s]\n"
     ]
    }
   ],
   "source": [
    "Raw_DIR= r'F:\\Drowsiness Detection System\\mrlEyes_2018_01'\n",
    "for dirpath, dirname, filenames in os.walk(Raw_DIR):\n",
    "    for i in tqdm([f for f in filenames if f.endswith('.png')]):\n",
    "\n",
    "        if i.split('_')[4]=='0':\n",
    "            shutil.copy(src=dirpath+'/'+i, dst=r'F:\\Drowsiness Detection System\\Prepared_Data\\train_dataset\\Closed_eyes_images')\n",
    "        elif i.split('_')[4]=='1':\n",
    "            shutil.copy(src=dirpath+'/'+i, dst=r'F:\\Drowsiness Detection System\\Prepared_Data\\train_dataset\\Open_eyes_images')"
   ]
  },
  {
   "cell_type": "markdown",
   "id": "28048707",
   "metadata": {},
   "source": [
    "## Randomly Selecting Test Data"
   ]
  },
  {
   "cell_type": "code",
   "execution_count": 8,
   "id": "4cc8585f",
   "metadata": {},
   "outputs": [],
   "source": [
    "def create_test_closed(source, destination, percent):\n",
    "    '''\n",
    "    Divides closed eyes images into given percent and moves from\n",
    "    source to destination.\n",
    "    \n",
    "    Arguments:\n",
    "    source(path): path of source directory\n",
    "    destination(path): path of destination directory\n",
    "    percent(float): percent of data to be divided(range: 0 to 1)\n",
    "    '''\n",
    "    path, dirs, files_closed = next(os.walk(source))\n",
    "    file_count_closed = len(files_closed)\n",
    "    percentage = file_count_closed * percent\n",
    "    to_move = random.sample(glob.glob(source + \"/*.png\"), int(percentage))\n",
    "\n",
    "    for f in enumerate(to_move):\n",
    "        if not os.path.exists(destination):\n",
    "            os.makedirs(destination)\n",
    "        shutil.move(f[1], destination)\n",
    "    print(f'moved {int(percentage)} images to the destination successfully.')"
   ]
  },
  {
   "cell_type": "code",
   "execution_count": 9,
   "id": "a77acbe5",
   "metadata": {},
   "outputs": [],
   "source": [
    "def create_test_open(source, destination, percent):\n",
    "    '''\n",
    "    Divides open eyes images into given percent and moves from\n",
    "    source to destination.\n",
    "    \n",
    "    Arguments:\n",
    "    source(path): path of source directory\n",
    "    destination(path): path of destination directory\n",
    "    percent(float): percent of data to be divided(range: 0 to 1)\n",
    "    '''\n",
    "    path, dirs, files_open = next(os.walk(source))\n",
    "    file_count_open = len(files_open)\n",
    "    percentage = file_count_open * percent\n",
    "    to_move = random.sample(glob.glob(source + \"/*.png\"), int(percentage))\n",
    "\n",
    "    for f in enumerate(to_move):\n",
    "        if not os.path.exists(destination):\n",
    "            os.makedirs(destination)\n",
    "        shutil.move(f[1], destination)\n",
    "    print(f'moved {int(percentage)} images to the destination successfully.')"
   ]
  },
  {
   "cell_type": "code",
   "execution_count": 12,
   "id": "d11a3093",
   "metadata": {},
   "outputs": [
    {
     "name": "stdout",
     "output_type": "stream",
     "text": [
      "moved 8389 images to the destination successfully.\n"
     ]
    }
   ],
   "source": [
    "create_test_closed('F:\\Drowsiness Detection System\\Prepared_Data\\train_dataset\\Closed_eyes_images', \n",
    "                    'F:\\Drowsiness Detection System\\Prepared_Data\\test_dataset\\Test_data_close_eyes', \n",
    "                    0.2)"
   ]
  },
  {
   "cell_type": "code",
   "execution_count": 13,
   "id": "7cbd036a",
   "metadata": {},
   "outputs": [
    {
     "name": "stdout",
     "output_type": "stream",
     "text": [
      "moved 8590 images to the destination successfully.\n"
     ]
    }
   ],
   "source": [
    "create_test_open('F:\\Drowsiness Detection System\\Prepared_Data\\train_dataset\\Open_eyes_images', \n",
    "                    'F:\\Drowsiness Detection System\\Prepared_Data\\test_dataset\\Test_data_open_eyes', \n",
    "                    0.2)"
   ]
  },
  {
   "cell_type": "code",
   "execution_count": null,
   "id": "db87536a",
   "metadata": {},
   "outputs": [],
   "source": []
  }
 ],
 "metadata": {
  "kernelspec": {
   "display_name": "Python 3 (ipykernel)",
   "language": "python",
   "name": "python3"
  },
  "language_info": {
   "codemirror_mode": {
    "name": "ipython",
    "version": 3
   },
   "file_extension": ".py",
   "mimetype": "text/x-python",
   "name": "python",
   "nbconvert_exporter": "python",
   "pygments_lexer": "ipython3",
   "version": "3.10.0"
  }
 },
 "nbformat": 4,
 "nbformat_minor": 5
}
