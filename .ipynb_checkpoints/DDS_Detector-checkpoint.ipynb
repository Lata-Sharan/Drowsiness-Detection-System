{
 "cells": [
  {
   "cell_type": "code",
   "execution_count": null,
   "id": "e35c81c3",
   "metadata": {},
   "outputs": [],
   "source": [
    "%pip install pygame"
   ]
  },
  {
   "cell_type": "markdown",
   "id": "9d687213",
   "metadata": {},
   "source": [
    "## Importing Libraries"
   ]
  },
  {
   "cell_type": "code",
   "execution_count": 1,
   "id": "f2343a62",
   "metadata": {},
   "outputs": [
    {
     "name": "stdout",
     "output_type": "stream",
     "text": [
      "pygame 2.1.2 (SDL 2.0.18, Python 3.7.9)\n",
      "Hello from the pygame community. https://www.pygame.org/contribute.html\n"
     ]
    }
   ],
   "source": [
    "import cv2\n",
    "import tensorflow as tf\n",
    "from tensorflow.keras.models import load_model\n",
    "import numpy as np\n",
    "from pygame import mixer"
   ]
  },
  {
   "cell_type": "markdown",
   "id": "efc58e71",
   "metadata": {},
   "source": [
    "## Loading Trained Model"
   ]
  },
  {
   "cell_type": "code",
   "execution_count": 2,
   "id": "e2e95bce",
   "metadata": {},
   "outputs": [],
   "source": [
    "face_cascade = cv2.CascadeClassifier(cv2.data.haarcascades + 'haarcascade_frontalface_default.xml')\n",
    "eye_cascade = cv2.CascadeClassifier(cv2.data.haarcascades + 'haarcascade_eye.xml')\n",
    "model = load_model(r'F:\\Drowsiness Detection System\\Trained_models\\trained_model.h5')"
   ]
  },
  {
   "cell_type": "code",
   "execution_count": 3,
   "id": "36b4e9e5",
   "metadata": {},
   "outputs": [],
   "source": [
    "# Loading Alarm\n",
    "mixer.init()\n",
    "sound= mixer.Sound(r'F:\\Drowsiness Detection System\\alarm.wav')"
   ]
  },
  {
   "cell_type": "markdown",
   "id": "cbbd3d12",
   "metadata": {},
   "source": [
    "## Activation of WebCam"
   ]
  },
  {
   "cell_type": "code",
   "execution_count": 4,
   "id": "8dc3b0db",
   "metadata": {},
   "outputs": [],
   "source": [
    "cap = cv2.VideoCapture(0)     #to access webcam\n",
    "\n",
    "#Checking if webcam is available or not\n",
    "if not cap.isOpened():\n",
    "    cap = cv2.VideoCapture(1)\n",
    "if not cap.isOpened():\n",
    "    raise IOSError(\"Cannot open Webcam\")"
   ]
  },
  {
   "cell_type": "code",
   "execution_count": 5,
   "id": "6da6438e",
   "metadata": {},
   "outputs": [],
   "source": [
    "score=0\n",
    "while True:\n",
    "    ret, frame = cap.read()\n",
    "    height,width = frame.shape[0:2]\n",
    "    gray = cv2.cvtColor(frame, cv2.COLOR_BGR2GRAY)     #converting colored image onto gray scale\n",
    "    faces= face_cascade.detectMultiScale(gray, scaleFactor= 1.2,minNeighbors=1)\n",
    "    eyes= eye_cascade.detectMultiScale(gray, scaleFactor= 1.1, minNeighbors=1)\n",
    "    \n",
    "    cv2.rectangle(frame, (0,height-50),(200,height),(0,0,0),thickness=cv2.FILLED)\n",
    "    cv2.rectangle(frame, (0,height-500),(400,height-450),(0,0,0),thickness=cv2.FILLED)\n",
    "    cv2.putText(frame,\"Press 'q' to stop the detection process. \",(0,height-460),fontFace=cv2.FONT_HERSHEY_COMPLEX_SMALL,\n",
    "                        fontScale=0.7,color=(255,0,0), thickness=1,lineType=cv2.LINE_AA)\n",
    "    \n",
    "    for (x,y,w,h) in faces:\n",
    "        cv2.rectangle(frame,pt1=(x,y),pt2=(x+w,y+h), color= (255,0,0), thickness=4 )\n",
    "        \n",
    "    for (a,b,e_w,e_h) in eyes:\n",
    "        \n",
    "        # PREPROCESSING STEPS\n",
    "        eye= frame[b:b+e_h,a:a+e_w]\n",
    "        eye= cv2.resize(eye,(80,80))\n",
    "        eye= eye/255\n",
    "        eye= eye.reshape(80,80,3)\n",
    "        eye= np.expand_dims(eye,axis=0)\n",
    "        \n",
    "        # preprocessing is done now model prediction\n",
    "        pred = model.predict(eye)\n",
    "        \n",
    "        # when person is drowsy\n",
    "        if pred[0][0]>0.30:\n",
    "            cv2.putText(frame,'Drowsy',(10,height-20),fontFace=cv2.FONT_HERSHEY_COMPLEX_SMALL,fontScale=0.8,color=(255,255,255),\n",
    "                       thickness=1,lineType=cv2.LINE_AA)\n",
    "            cv2.putText(frame,'Score '+str(score),(100,height-20),fontFace=cv2.FONT_HERSHEY_COMPLEX_SMALL,fontScale=0.7,\n",
    "                        color=(255,255,255), thickness=1,lineType=cv2.LINE_AA)\n",
    "            \n",
    "            \n",
    "            score=score+1\n",
    "            if(score>25):\n",
    "                try:\n",
    "                    sound.play()\n",
    "                except:\n",
    "                    pass   \n",
    "        # when person is not drowsy    \n",
    "        if pred[0][1]>0.90:\n",
    "            score=score-1\n",
    "            if(score<0 or score>40):\n",
    "                score=0\n",
    "        \n",
    "    cv2.imshow('frame',frame)\n",
    "    if cv2.waitKey(33) & 0xFF==ord('q'):   #to halt the process 'q' key needs to be pressed\n",
    "        break\n",
    "\n",
    "        \n",
    "# Release everything when job is finished\n",
    "cap.release()\n",
    "cv2.destroyAllWindows()"
   ]
  },
  {
   "cell_type": "code",
   "execution_count": null,
   "id": "8a4a4829",
   "metadata": {},
   "outputs": [],
   "source": []
  },
  {
   "cell_type": "code",
   "execution_count": null,
   "id": "642f76ea",
   "metadata": {},
   "outputs": [],
   "source": []
  }
 ],
 "metadata": {
  "kernelspec": {
   "display_name": "Python 3 (ipykernel)",
   "language": "python",
   "name": "python3"
  },
  "language_info": {
   "codemirror_mode": {
    "name": "ipython",
    "version": 3
   },
   "file_extension": ".py",
   "mimetype": "text/x-python",
   "name": "python",
   "nbconvert_exporter": "python",
   "pygments_lexer": "ipython3",
   "version": "3.7.9"
  }
 },
 "nbformat": 4,
 "nbformat_minor": 5
}
